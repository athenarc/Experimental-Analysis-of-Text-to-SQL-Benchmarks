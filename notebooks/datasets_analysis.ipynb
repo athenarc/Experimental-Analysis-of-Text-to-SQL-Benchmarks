{
 "cells": [
  {
   "cell_type": "markdown",
   "source": [
    "Define the datasets for analysis"
   ],
   "metadata": {
    "collapsed": false
   },
   "id": "e73a2e89de8d062f"
  },
  {
   "cell_type": "code",
   "execution_count": null,
   "outputs": [],
   "source": [
    "import pandas as pd\n",
    "\n",
    "from DatasetAnalysisTools.utils.datasets_getters import spider_getter, kaggle_dbqa_getter, academic_getter, \\\n",
    "    advising_getter, geoquery_getter, imdb_getter, yelp_getter, scholar_getter, atis_getter, restaurants_getter, \\\n",
    "    mimicsql_getter, bird_getter, spider_cg_getter\n",
    "\n",
    "datasets = [\n",
    "    {\"name\": \"spider\", \"dataset_getter\": spider_getter},\n",
    "    {\"name\": \"kaggle-dbqa\", \"dataset_getter\": kaggle_dbqa_getter},\n",
    "    {\"name\": \"academic\", \"dataset_getter\": academic_getter},\n",
    "    {\"name\": \"advising\", \"dataset_getter\": advising_getter},\n",
    "    {\"name\": \"geoquery\", \"dataset_getter\": geoquery_getter},\n",
    "    {\"name\": \"imdb\", \"dataset_getter\": imdb_getter},\n",
    "    {\"name\": \"yelp\", \"dataset_getter\": yelp_getter},\n",
    "    {\"name\": \"scholar\", \"dataset_getter\": scholar_getter},\n",
    "    {\"name\": \"atis\", \"dataset_getter\": atis_getter},\n",
    "    {\"name\": \"restaurants\", \"dataset_getter\": restaurants_getter},\n",
    "    {\"name\": \"mimicsql\", \"dataset_getter\": mimicsql_getter},\n",
    "    {\"name\": \"bird\", \"dataset_getter\": bird_getter},\n",
    "    {\"name\": \"spider_cg\", \"dataset_getter\": spider_cg_getter}\n",
    "]"
   ],
   "metadata": {
    "collapsed": false
   },
   "id": "initial_id"
  },
  {
   "cell_type": "code",
   "execution_count": null,
   "outputs": [],
   "source": [
    "reports_dir = \"storage/datasets_analysis_reports\""
   ],
   "metadata": {
    "collapsed": false
   },
   "id": "7ac0b1ce1b776f69"
  },
  {
   "cell_type": "markdown",
   "source": [
    "Create the analysis reports for all datasets"
   ],
   "metadata": {
    "collapsed": false
   },
   "id": "ee80da1a464fff59"
  },
  {
   "cell_type": "code",
   "execution_count": null,
   "outputs": [],
   "source": [
    "from DatasetAnalysisTools.dataset_analysis_report import create_dataset_analysis_report\n",
    "from DatasetAnalysisTools.DatasetInfo.dataset_info import DatasetInfo\n",
    "\n",
    "for dataset in datasets:\n",
    "    \n",
    "    dataset_info_per_split = [DatasetInfo(dataset_name=f\"{dataset['name']} ({split})\", dataset=data)\n",
    "                              for split, data in dataset[\"dataset_getter\"]().items()]\n",
    "    \n",
    "    create_dataset_analysis_report(dataset_splits_info=dataset_info_per_split, save_dir=f\"{reports_dir}/{dataset['name']}\")"
   ],
   "metadata": {
    "collapsed": false
   },
   "id": "60ad6559023ceadc"
  },
  {
   "cell_type": "markdown",
   "source": [
    "Unify the general info of each dataset into one dataframe"
   ],
   "metadata": {
    "collapsed": false
   },
   "id": "5091892b0df6d0d0"
  },
  {
   "cell_type": "code",
   "execution_count": null,
   "outputs": [],
   "source": [
    "# Read the reports with the generic info\n",
    "\n",
    "reports = []\n",
    "for dataset in datasets:\n",
    "    reports.append(pd.read_csv(f\"{reports_dir}/{dataset['name']}/general_info.csv\"))\n",
    "    \n",
    "unified_report = pd.concat(reports)"
   ],
   "metadata": {
    "collapsed": false
   },
   "id": "363010d3abf95daf"
  },
  {
   "cell_type": "code",
   "execution_count": null,
   "outputs": [],
   "source": [
    "unified_report"
   ],
   "metadata": {
    "collapsed": false
   },
   "id": "8791e015e4f7e620"
  }
 ],
 "metadata": {
  "kernelspec": {
   "display_name": "Python 3",
   "language": "python",
   "name": "python3"
  },
  "language_info": {
   "codemirror_mode": {
    "name": "ipython",
    "version": 2
   },
   "file_extension": ".py",
   "mimetype": "text/x-python",
   "name": "python",
   "nbconvert_exporter": "python",
   "pygments_lexer": "ipython2",
   "version": "2.7.6"
  }
 },
 "nbformat": 4,
 "nbformat_minor": 5
}
